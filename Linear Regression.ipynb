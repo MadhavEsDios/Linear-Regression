{
 "cells": [
  {
   "cell_type": "code",
   "execution_count": 1,
   "metadata": {
    "collapsed": true
   },
   "outputs": [],
   "source": [
    "# Note: I have written this code so that it can be easily understood and divided the code into different modules for ease\n",
    "# Feel free verify the final parameter values by using the Normal Equation\n",
    "import numpy as np\n",
    "from numpy.linalg import inv # For the normal eqn which I have not implemented here\n",
    "import matplotlib.pyplot as plt"
   ]
  },
  {
   "cell_type": "code",
   "execution_count": 13,
   "metadata": {
    "collapsed": true
   },
   "outputs": [],
   "source": [
    "# Note as I am not using pandas, I have manually removed the outlier value and the column headings, you can use dropna to do the same.\n",
    "\n",
    "def load_dataset(train_dataset_filename, test_dataset_filename):\n",
    "    \n",
    "    #complete_train_dataset = np.genfromtxt(train_dataset_filename, dtype = None, delimiter=\",\")\n",
    "    complete_train_dataset = np.loadtxt(train_dataset_filename,delimiter=\",\")\n",
    "    print(complete_train_dataset.shape)\n",
    "\n",
    "    complete_test_dataset = np.loadtxt(test_dataset_filename,delimiter=\",\")\n",
    "    print(complete_test_dataset.shape)\n",
    "    \n",
    "    train_dataset_input_without_bias, train_dataset_output = get_intermediate_input_and_output(complete_train_dataset)\n",
    "    normalized_train_dataset_input_without_bias, mean, sigma = normalize(train_dataset_input_without_bias)\n",
    "    train_dataset_input = add_bias_column(normalized_train_dataset_input_without_bias)\n",
    "    \n",
    "    test_dataset_input_without_bias, test_dataset_output = get_intermediate_input_and_output(complete_test_dataset)\n",
    "    normalized_test_dataset_input_without_bias = (test_dataset_input_without_bias - mean) / sigma\n",
    "    test_dataset_input = add_bias_column(normalized_test_dataset_input_without_bias)\n",
    "    \n",
    "    return train_dataset_input, train_dataset_output, test_dataset_input, test_dataset_output\n",
    "\n"
   ]
  },
  {
   "cell_type": "code",
   "execution_count": 3,
   "metadata": {
    "collapsed": true
   },
   "outputs": [],
   "source": [
    "# It is always best to normalize your dataset for faster convergence\n",
    "\n",
    "def normalize(matrix):\n",
    "    mean = np.mean(matrix, axis=0)\n",
    "    sigma = np.std(matrix, axis=0)\n",
    "    norm_matrix = (matrix - mean) / sigma\n",
    "    \n",
    "    return norm_matrix, mean, sigma"
   ]
  },
  {
   "cell_type": "code",
   "execution_count": 4,
   "metadata": {
    "collapsed": true
   },
   "outputs": [],
   "source": [
    "def get_intermediate_input_and_output(dataset):\n",
    "    input = dataset[:,:-1]\n",
    "    output = dataset[:,-1]\n",
    "    \n",
    "    return input, np.reshape(output, (output.shape[0],1))"
   ]
  },
  {
   "cell_type": "code",
   "execution_count": 5,
   "metadata": {
    "collapsed": true
   },
   "outputs": [],
   "source": [
    "def add_bias_column(input):\n",
    "    m = input.shape[0]\n",
    "    bias = np.ones((m,1))\n",
    "    final_input = np.concatenate((bias,input), axis=1)\n",
    "    \n",
    "    return final_input"
   ]
  },
  {
   "cell_type": "code",
   "execution_count": 6,
   "metadata": {
    "collapsed": true
   },
   "outputs": [],
   "source": [
    "# Cost with regularization\n",
    "\n",
    "def calculate_cost(input_mat, output_mat, parameters, lam):\n",
    "    hypothesis = np.dot(input_mat, parameters)\n",
    "    cost = ((1/(2 * m)) * (np.dot((hypothesis - output_mat).T, (hypothesis - output_mat)))) + (lam * np.sum(parameters))\n",
    "    \n",
    "    return cost"
   ]
  },
  {
   "cell_type": "code",
   "execution_count": 7,
   "metadata": {
    "collapsed": true
   },
   "outputs": [],
   "source": [
    "# Gradient update with regularization\n",
    "# I use gradient descent as it is a process which allows the viewers to understand best how lines are fit on a dataset by constant updates on parameters in the direction of steepest slope\n",
    "\n",
    "def gradient_descent(input_mat, output_mat, parameters, alpha, iterations, m, lam):\n",
    "    print(\"Initial Cost = \" + str(calculate_cost(input_mat, output_mat, parameters, lam)))\n",
    "    for i in range(iterations):\n",
    "        #hypothesis = np.dot(input_mat, parameters)\n",
    "        parameters = parameters - ((alpha/m) * (np.dot((input_mat.T), (np.dot(input_mat,parameters) - output_mat))))\n",
    "        parameters[1] = parameters[1] - ((alpha * lam/m) * parameters[1])\n",
    "        \n",
    "        if (i % 1000) == 0:\n",
    "            print(\"Iteration:\" + str(i) + \" Cost=\" + str(calculate_cost(input_mat, output_mat, parameters, lam)))\n",
    "           \n",
    "            \n",
    "    print(\"Iteration:\" + str(iterations) + \" Cost=\" + str(calculate_cost(input_mat, output_mat, parameters, lam)))\n",
    "    print(parameters)\n",
    "    \n",
    "    return parameters"
   ]
  },
  {
   "cell_type": "code",
   "execution_count": 40,
   "metadata": {},
   "outputs": [
    {
     "name": "stdout",
     "output_type": "stream",
     "text": [
      "(699, 2)\n",
      "(300, 2)\n",
      "Initial Cost = [[ 1670.06241309]]\n",
      "Iteration:0 Cost=[[ 1666.73182214]]\n",
      "Iteration:1000 Cost=[[ 228.74403459]]\n",
      "Iteration:2000 Cost=[[ 34.32819299]]\n",
      "Iteration:3000 Cost=[[ 8.04318571]]\n",
      "Iteration:4000 Cost=[[ 4.48945468]]\n",
      "Iteration:5000 Cost=[[ 4.00899051]]\n",
      "Iteration:6000 Cost=[[ 3.94403179]]\n",
      "Iteration:7000 Cost=[[ 3.93524938]]\n",
      "Iteration:8000 Cost=[[ 3.934062]]\n",
      "Iteration:9000 Cost=[[ 3.93390146]]\n",
      "Iteration:10000 Cost=[[ 3.93387976]]\n",
      "Iteration:11000 Cost=[[ 3.93387683]]\n",
      "Iteration:12000 Cost=[[ 3.93387643]]\n",
      "Iteration:13000 Cost=[[ 3.93387638]]\n",
      "Iteration:14000 Cost=[[ 3.93387637]]\n",
      "Iteration:15000 Cost=[[ 3.93387637]]\n",
      "[[ 49.93985401]\n",
      " [ 28.95282424]]\n"
     ]
    }
   ],
   "source": [
    "# Feel free to tweak the values of the hyperparamters\n",
    "alpha = 0.001\n",
    "iterations = 15000\n",
    "lam = 0\n",
    "\n",
    "train_dataset_filename = \"/Users/Madhav/Downloads/random-linear-regression/train.csv\"\n",
    "test_dataset_filename = \"/Users/Madhav/Downloads/random-linear-regression/test.csv\"\n",
    "\n",
    "training_input, training_output, test_input, test_output = load_dataset(train_dataset_filename, test_dataset_filename)\n",
    "m = training_input.shape[0]\n",
    "\n",
    "# initialize parameters\n",
    "parameters = np.array([[0], [0]])\n",
    "\n",
    "final_parameters = gradient_descent(training_input, training_output, parameters, alpha, iterations, m, lam)\n"
   ]
  },
  {
   "cell_type": "code",
   "execution_count": 41,
   "metadata": {},
   "outputs": [
    {
     "data": {
      "image/png": "[encoded data removed]",
      "text/plain": [
       "<matplotlib.figure.Figure at 0x109a2d160>"
      ]
     },
     "metadata": {},
     "output_type": "display_data"
    }
   ],
   "source": [
    "plt.title(\"Train Graph\")\n",
    "plt.scatter(training_input[:,1],training_output,color='orange')\n",
    "plt.xlim([-2,2])\n",
    "x = np.array([-1.4, -1.2, -1, -0.8, -0.6 ,-0.4, -0.2, 0, 0.2, 0.4, 0.6, 0.8, 1, 1.2, 1.4])\n",
    "y = float(final_parameters[0]) + (float(final_parameters[1]) * x)\n",
    "#y = float(final_parameters[0]) + (float(130) * x)\n",
    "plt.plot(x,y,'black',linewidth=3)\n",
    "plt.show()"
   ]
  },
  {
   "cell_type": "code",
   "execution_count": 42,
   "metadata": {
    "scrolled": true
   },
   "outputs": [
    {
     "data": {
      "image/png": "[encoded data removed]",
      "text/plain": [
       "<matplotlib.figure.Figure at 0x1097c2588>"
      ]
     },
     "metadata": {},
     "output_type": "display_data"
    }
   ],
   "source": [
    "plt.title(\"Test Graph\")\n",
    "plt.scatter(test_input[:,1],test_output,color='orange')\n",
    "plt.xlim([-2,2])\n",
    "x = np.array([-1.4, -1.2, -1, -0.8, -0.6 ,-0.4, -0.2, 0, 0.2, 0.4, 0.6, 0.8, 1, 1.2, 1.4])\n",
    "y = float(final_parameters[0]) + (float(final_parameters[1]) * x)\n",
    "#y = float(final_parameters[0]) + (float(130) * x)\n",
    "plt.plot(x,y,'black',linewidth=3)\n",
    "plt.show()"
   ]
  },
  {
   "cell_type": "code",
   "execution_count": 44,
   "metadata": {},
   "outputs": [
    {
     "name": "stdout",
     "output_type": "stream",
     "text": [
      "[[ 3.93387637]]\n"
     ]
    }
   ],
   "source": [
    "# To get a good evaluation metric for regression R^2 can be used, but note that it is not a good way to estimate test set predictions.\n",
    "# Thus in this case I have used the cost function defined above\n",
    "# The correctnes of the regression can be verified by looking at the graph plots above for both test and train\n",
    "\n",
    "train_hypothesis = np.dot(training_input, final_parameters)\n",
    "train_final_cost = calculate_cost(training_input, training_output, final_parameters, 0)\n",
    "print(train_final_cost)"
   ]
  },
  {
   "cell_type": "code",
   "execution_count": 45,
   "metadata": {},
   "outputs": [
    {
     "name": "stdout",
     "output_type": "stream",
     "text": [
      "[[ 2.02423594]]\n"
     ]
    }
   ],
   "source": [
    "test_hypothesis = np.dot(test_input, final_parameters)\n",
    "test_predicted_cost = calculate_cost(test_input, test_output, final_parameters,0)\n",
    "print(test_predicted_cost)\n",
    "\n",
    "# Note that the final parameters do not overfit the training dataset as they give a lower cost for the test dataset"
   ]
  },
  {
   "cell_type": "code",
   "execution_count": null,
   "metadata": {
    "collapsed": true
   },
   "outputs": [],
   "source": []
  }
 ],
 "metadata": {
  "kernelspec": {
   "display_name": "Python 3",
   "language": "python",
   "name": "python3"
  },
  "language_info": {
   "codemirror_mode": {
    "name": "ipython",
    "version": 3
   },
   "file_extension": ".py",
   "mimetype": "text/x-python",
   "name": "python",
   "nbconvert_exporter": "python",
   "pygments_lexer": "ipython3",
   "version": "3.6.3"
  }
 },
 "nbformat": 4,
 "nbformat_minor": 2
}
